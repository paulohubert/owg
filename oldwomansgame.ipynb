{
 "cells": [
  {
   "cell_type": "markdown",
   "metadata": {},
   "source": [
    "# Aprendizagem por reforço: jogo da velha"
   ]
  },
  {
   "cell_type": "code",
   "execution_count": 9,
   "metadata": {},
   "outputs": [],
   "source": [
    "%matplotlib tk\n",
    "\n",
    "from owg_board import owg\n",
    "from owg_players import jb, miope, cientista, cientista_sovina, cientista_cauteloso, cientista_conciliador, epsilon_edson\n",
    "from tqdm import tqdm"
   ]
  },
  {
   "cell_type": "markdown",
   "metadata": {},
   "source": [
    "Inicializa jogadores"
   ]
  },
  {
   "cell_type": "code",
   "execution_count": 15,
   "metadata": {},
   "outputs": [],
   "source": [
    "p1 = epsilon_edson(desconto = 0.9, epsilon = 0.5, nome = 'epsilon_edson_1MM')\n",
    "\n",
    "p2 = epsilon_edson(desconto = 0.9, epsilon = 0.5)"
   ]
  },
  {
   "cell_type": "markdown",
   "metadata": {},
   "source": [
    "Reseta o tabuleiro (desnecessário no primeiro round)"
   ]
  },
  {
   "cell_type": "code",
   "execution_count": 16,
   "metadata": {},
   "outputs": [],
   "source": [
    "p1.reset()\n",
    "p2.reset()"
   ]
  },
  {
   "cell_type": "markdown",
   "metadata": {},
   "source": [
    "### Treino por self-learning\n",
    "\n",
    "p1 joga contra p2 por $n$ jogos"
   ]
  },
  {
   "cell_type": "code",
   "execution_count": 17,
   "metadata": {},
   "outputs": [],
   "source": [
    "# Número de jogos para treinar\n",
    "n = 1000"
   ]
  },
  {
   "cell_type": "code",
   "execution_count": 18,
   "metadata": {
    "scrolled": true
   },
   "outputs": [
    {
     "name": "stderr",
     "output_type": "stream",
     "text": [
      "100%|██████████| 1000/1000 [00:01<00:00, 636.80it/s]\n"
     ]
    }
   ],
   "source": [
    "# Contadores\n",
    "vitorias = 0\n",
    "derrotas = 0\n",
    "empates = 0\n",
    "\n",
    "# Proporções de cada resultado ao longo do tempo\n",
    "pempate = []\n",
    "pjog1 = []\n",
    "pjog2 = []\n",
    "\n",
    "for i in tqdm(range(n)):\n",
    "    \n",
    "    # Alterna quem começa o jogo\n",
    "    if i % 2 == 0:\n",
    "        # Joga p1\n",
    "        movimento = p1.joga()\n",
    "        # Comunica o movimento para p2\n",
    "        p2.comunica(movimento)\n",
    "        # Checa se o jogo acabou\n",
    "        res, _ = p2.board.check_result()\n",
    "        while res is None:\n",
    "            # Enquanto não acabar\n",
    "            movimento = p2.joga()\n",
    "            if movimento is not None:\n",
    "                p1.comunica(movimento)\n",
    "                movimento = p1.joga()           \n",
    "                if movimento is not None:\n",
    "                    p2.comunica(movimento)\n",
    "            res, _ = p2.board.check_result()\n",
    "        \n",
    "        # Checa o resultado e atualiza os contadores\n",
    "        r, _ = p1.board.check_result()\n",
    "        if r == 1:\n",
    "            vitorias += 1\n",
    "        elif r == -1:\n",
    "            derrotas += 1\n",
    "        else:\n",
    "            empates += 1\n",
    "        p1.reset()\n",
    "        p2.reset()\n",
    "    else:\n",
    "        # Joga p2\n",
    "        movimento = p2.joga()\n",
    "        # Comunica o movimento para p1\n",
    "        p1.comunica(movimento)\n",
    "        # Checa se o jogo acabou\n",
    "        res, _ = p1.board.check_result()\n",
    "        while res is None:\n",
    "            # Enquanto não acabar\n",
    "            movimento = p1.joga()\n",
    "            if movimento is not None:\n",
    "                p2.comunica(movimento)\n",
    "                movimento = p2.joga()          \n",
    "                if movimento is not None:\n",
    "                    p1.comunica(movimento)\n",
    "            res, _ = p1.board.check_result()\n",
    "        \n",
    "        # Checa o resultado final e atualiza contadores\n",
    "        r, _ = p1.board.check_result()\n",
    "        if r == 1:\n",
    "            vitorias += 1\n",
    "        elif r == -1:\n",
    "            derrotas += 1\n",
    "        else:\n",
    "            empates += 1\n",
    "        p1.reset()\n",
    "        p2.reset()\n",
    "        \n",
    "    pempate.append(empates / (i+1))\n",
    "    pjog1.append(vitorias / (i+1))\n",
    "    pjog2.append(derrotas / (i+1))"
   ]
  },
  {
   "cell_type": "markdown",
   "metadata": {},
   "source": [
    "Gráfico da evoluçao das proporções de empate e vitória de cada jogador"
   ]
  },
  {
   "cell_type": "code",
   "execution_count": 20,
   "metadata": {},
   "outputs": [],
   "source": [
    "from matplotlib import pyplot as plt\n",
    "plt.figure(figsize = (20, 10))\n",
    "plt.plot(pjog1, '-', label = p1.nome)\n",
    "plt.plot(pempate, '-', label = 'Empate')\n",
    "plt.plot(pjog2, '-', label = p2.nome)\n",
    "plt.ylim([0,1])\n",
    "plt.hlines(y = 0.5, xmin = 0, xmax = len(pjog1) , linestyles='dashed')\n",
    "plt.grid(True)\n",
    "plt.legend()\n",
    "plt.show()"
   ]
  },
  {
   "cell_type": "markdown",
   "metadata": {},
   "source": [
    "### Carregando os jogadores pré-treinados"
   ]
  },
  {
   "cell_type": "code",
   "execution_count": 21,
   "metadata": {},
   "outputs": [],
   "source": [
    "import pickle\n",
    "with open('cientista_1MM.pkl', 'rb') as arq:\n",
    "    p1 = pickle.load(arq)\n",
    "with open('cientista_cauteloso_1MM.pkl', 'rb') as arq:\n",
    "    p2 = pickle.load(arq)\n",
    "with open('epsilon_edson_1MM.pkl', 'rb') as arq:\n",
    "    p3 = pickle.load(arq)    "
   ]
  },
  {
   "cell_type": "markdown",
   "metadata": {},
   "source": [
    "### Analisando aprendizagem do jogador"
   ]
  },
  {
   "cell_type": "markdown",
   "metadata": {},
   "source": [
    "Clique com o botão direito do mouse para exibir as ações possíveis e o valor estimado de cada uma delas de acordo com o jogador passado como argumento para a função"
   ]
  },
  {
   "cell_type": "code",
   "execution_count": 23,
   "metadata": {},
   "outputs": [],
   "source": [
    "tab = owg()\n",
    "tab.start_free(p2)"
   ]
  },
  {
   "cell_type": "markdown",
   "metadata": {},
   "source": [
    "### Jogar contra"
   ]
  },
  {
   "cell_type": "code",
   "execution_count": null,
   "metadata": {},
   "outputs": [],
   "source": [
    "# Jogar contra quem?\n",
    "p = p1\n",
    "p.reset()\n",
    "tab = owg()\n",
    "tab.start(p)"
   ]
  }
 ],
 "metadata": {
  "kernelspec": {
   "display_name": "Python 3",
   "language": "python",
   "name": "python3"
  },
  "language_info": {
   "codemirror_mode": {
    "name": "ipython",
    "version": 3
   },
   "file_extension": ".py",
   "mimetype": "text/x-python",
   "name": "python",
   "nbconvert_exporter": "python",
   "pygments_lexer": "ipython3",
   "version": "3.6.7"
  }
 },
 "nbformat": 4,
 "nbformat_minor": 2
}
